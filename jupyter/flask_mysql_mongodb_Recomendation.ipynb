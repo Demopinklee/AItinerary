{
 "cells": [
  {
   "cell_type": "code",
   "execution_count": null,
   "metadata": {},
   "outputs": [
    {
     "name": "stdout",
     "output_type": "stream",
     "text": [
      " * Serving Flask app \"__main__\" (lazy loading)\n",
      " * Environment: production\n",
      "   WARNING: This is a development server. Do not use it in a production deployment.\n",
      "   Use a production WSGI server instead.\n",
      " * Debug mode: off\n"
     ]
    },
    {
     "name": "stderr",
     "output_type": "stream",
     "text": [
      " * Running on http://127.0.0.1:5000/ (Press CTRL+C to quit)\n"
     ]
    },
    {
     "name": "stdout",
     "output_type": "stream",
     "text": [
      "{'age': 30, 'been2tko': 4, 'days': 16, 'budget': 50000, 'isFemale': 1}\n",
      "1\n"
     ]
    },
    {
     "name": "stderr",
     "output_type": "stream",
     "text": [
      "/opt/conda/lib/python3.7/site-packages/ipykernel_launcher.py:76: DeprecationWarning: insert is deprecated. Use insert_one or insert_many instead.\n"
     ]
    },
    {
     "name": "stdout",
     "output_type": "stream",
     "text": [
      "[{'Types': '餅乾類', 'price': 1250, 'ranking': 41, 'souvenir': '東京カンパネラ「東京カンパネラ ショコラ」', 'address': '東京駅\\u3000大丸東京 4F', 'url': 'http://hacci1912.com/'}, {'Types': '餅乾類', 'price': 1080, 'ranking': 24, 'souvenir': '大江戸菓子匠\\u3000銀座松崎煎餅\\u3000「瓦煎餅三味胴」', 'address': '銀座駅周辺\\u3000東京都中央区銀座5-6-9松崎ビル1階', 'url': 'http://terraconfect.tokyo/fromageterra/'}, {'Types': '餅乾類', 'price': 450, 'ranking': 60, 'souvenir': 'みりん堂「スカイツリーせんべい」', 'address': '東京スカイツリー周辺\\u3000東京都墨田区琴平1-13-7', 'url': 'http://mirindo.com/'}, {'Types': '小蛋糕類', 'price': 411, 'ranking': 69, 'souvenir': 'クラブハリエ B-スタジオ「バームクーヘンmini」', 'address': '池袋駅\\u3000東武百貨店池袋店 B1F', 'url': 'http://clubharie.jp/baumkuchen/'}, {'Types': '小蛋糕類', 'price': 486, 'ranking': 21, 'souvenir': 'TAICHIRO MORINAGA「キャラメルラスク」', 'address': '新宿駅\\u3000NEWoman（ニュウマン）エキナカ 2F', 'url': 'http://www.morinaga.co.jp/taichiro/'}, {'Types': '點心類', 'price': 1080, 'ranking': 59, 'souvenir': 'ブールミッシュ「パンダのマカロン」', 'address': '上野駅\\u3000エキュート上野 3F', 'url': 'http://www.boulmich.co.jp'}, {'Types': '巧克力類', 'price': 702, 'ranking': 42, 'souvenir': 'ベルン「ミルフィーユ」', 'address': '品川駅\\u3000エキュート品川サウス 1F', 'url': 'http://hacci1912.com/'}, {'Types': '巧克力類', 'price': 1620, 'ranking': 45, 'souvenir': 'ホレンディッシェ・カカオシュトゥーベ「バウムシュピッツ」', 'address': '新宿駅\\u3000伊勢丹 B1F', 'url': 'https://isetan.mistore.jp/onlinestore/foods/kakaostube/index.html'}, {'Types': '夾心餅乾類', 'price': 864, 'ranking': 81, 'souvenir': '東京ミルクチーズ工場「ソルト＆カマンベール」', 'address': '東京駅\\u3000京葉ストリート 1F', 'url': 'http://www.rl-waffle.co.jp'}, {'Types': '夾心餅乾類', 'price': 540, 'ranking': 6, 'souvenir': 'N.Y.キャラメルサンド「N.Y.C.SAND（ニューヨークシティサンド）」', 'address': '羽田空港 第1旅客ターミナル2F\\u3000東京食賓館[Eゲート前]', 'url': 'https://ringo-applepie.com'}]\n",
      "東京カンパネラ「東京カンパネラ ショコラ」.jpg\n",
      "大江戸菓子匠　銀座松崎煎餅　「瓦煎餅三味胴」.jpg\n",
      "みりん堂「スカイツリーせんべい」.jpg\n",
      "クラブハリエ B-スタジオ「バームクーヘンmini」.jpg\n",
      "TAICHIRO MORINAGA「キャラメルラスク」.jpg\n",
      "ブールミッシュ「パンダのマカロン」.jpg\n",
      "ベルン「ミルフィーユ」.jpg\n",
      "ホレンディッシェ・カカオシュトゥーベ「バウムシュピッツ」.jpg\n",
      "東京ミルクチーズ工場「ソルト＆カマンベール」.jpg\n",
      "N.Y.キャラメルサンド「N.Y.C.SAND（ニューヨークシティサンド）」.jpg\n"
     ]
    },
    {
     "name": "stderr",
     "output_type": "stream",
     "text": [
      "127.0.0.1 - - [09/Nov/2019 06:47:39] \"POST / HTTP/1.1\" 200 -\n"
     ]
    },
    {
     "name": "stdout",
     "output_type": "stream",
     "text": [
      "10\n",
      "{'age': 30, 'been2tko': 4, 'days': 16, 'budget': 50000, 'isFemale': 1}\n",
      "1\n"
     ]
    },
    {
     "name": "stderr",
     "output_type": "stream",
     "text": [
      "/opt/conda/lib/python3.7/site-packages/ipykernel_launcher.py:76: DeprecationWarning: insert is deprecated. Use insert_one or insert_many instead.\n"
     ]
    },
    {
     "name": "stdout",
     "output_type": "stream",
     "text": [
      "[{'Types': '餅乾類', 'price': 580, 'ranking': 61, 'souvenir': 'ドルチェフェリーチェ「うえきゅんのキャンダック」', 'address': '上野駅\\u3000エキュート上野 3F', 'url': 'https://www.keyuca.com/dolce-felice/'}, {'Types': '餅乾類', 'price': 1080, 'ranking': 67, 'souvenir': '銀座 菊廼舎（きくのや）「冨貴寄-ふきよせ-」', 'address': '渋谷駅\\u3000渋谷マークシティB1F', 'url': 'http://www.testarossacafe.net/'}, {'Types': '餅乾類', 'price': 617, 'ranking': 23, 'souvenir': 'スイーツハートツリー「いちごのシャリーメイト」', 'address': '東京スカイツリー\\u3000東京ソラマチ 2F', 'url': 'http://terraconfect.tokyo/fromageterra/'}, {'Types': '小蛋糕類', 'price': 1944, 'ranking': 31, 'souvenir': '治一郎「バウムクーヘン」', 'address': '羽田空港\\u3000第1旅客ターミナル 2F PIER 4', 'url': 'http://www.jiichiro.com'}, {'Types': '小蛋糕類', 'price': 2484, 'ranking': 58, 'souvenir': '日本茶菓SANOAH「キャラメルサンドクッキー 胡桃抹茶」', 'address': '新宿駅\\u3000伊勢丹 B1F', 'url': 'http://www.n-sanoah.jp/product/itm-sta-ks'}, {'Types': '點心類', 'price': 573, 'ranking': 90, 'souvenir': '菓匠 青柳正家「菊最中」', 'address': '浅草駅\\u3000エキミセ 1F', 'url': 'https://www.aoyagiseike.jp/shop/'}, {'Types': '巧克力類', 'price': 1404, 'ranking': 38, 'souvenir': 'ピエール・マルコリーニ 「マルコリーニ マドレーヌ ショコラ」', 'address': '羽田空港\\u3000第2旅客ターミナル 2F 東京食賓館[3番時計台前]', 'url': 'https://store.c-c-c.co.jp/DefaultBrandTop.aspx'}, {'Types': '巧克力類', 'price': 648, 'ranking': 46, 'souvenir': 'コロンバン「東京駅焼きショコラ」', 'address': '東京駅\\u3000グランスタ B1F', 'url': 'http://www.wagashi-miyabian.com'}, {'Types': '夾心餅乾類', 'price': 680, 'ranking': 76, 'souvenir': '羽田空港オリジナル「東京リッチサンド 抹茶」', 'address': '羽田空港第1旅客ターミナル 2F PIER 4', 'url': 'なし'}, {'Types': '夾心餅乾類', 'price': 1080, 'ranking': 39, 'souvenir': '叶 匠寿庵 「羽雲（はねぐも）」', 'address': '羽田空港\\u3000第1旅客ターミナル 2F\\u3000特選和菓子館', 'url': 'http://hanegumo.com'}]\n",
      "ドルチェフェリーチェ「うえきゅんのキャンダック」.jpg\n",
      "銀座 菊廼舎（きくのや）「冨貴寄-ふきよせ-」.jpg\n",
      "スイーツハートツリー「いちごのシャリーメイト」.jpg\n",
      "治一郎「バウムクーヘン」.jpg\n",
      "日本茶菓SANOAH「キャラメルサンドクッキー 胡桃抹茶」.jpg\n",
      "菓匠 青柳正家「菊最中」.jpg\n",
      "ピエール・マルコリーニ 「マルコリーニ マドレーヌ ショコラ」.jpg\n",
      "コロンバン「東京駅焼きショコラ」.jpg\n",
      "羽田空港オリジナル「東京リッチサンド 抹茶」.jpg\n",
      "叶 匠寿庵 「羽雲（はねぐも）」.jpg\n"
     ]
    },
    {
     "name": "stderr",
     "output_type": "stream",
     "text": [
      "127.0.0.1 - - [09/Nov/2019 07:07:05] \"POST / HTTP/1.1\" 200 -\n"
     ]
    },
    {
     "name": "stdout",
     "output_type": "stream",
     "text": [
      "10\n"
     ]
    }
   ],
   "source": [
    "import jsonify\n",
    "import flask\n",
    "from flask import Flask\n",
    "import os\n",
    "import glob\n",
    "import pymongo\n",
    "from pymongo import MongoClient\n",
    "import bson.binary\n",
    "import bson.objectid\n",
    "import bson.errors\n",
    "from PIL import Image\n",
    "import joblib \n",
    "import numpy as np\n",
    "import pymysql\n",
    "import pymysql.cursors\n",
    "from  bson.json_util import dumps\n",
    "#與 Mysql連線\n",
    "connection = pymysql.connect(host='mysql',\n",
    "                             user='root',\n",
    "                             password='iii',\n",
    "                             charset='utf8mb4',\n",
    "                             cursorclass=pymysql.cursors.DictCursor)\n",
    "\n",
    "#與 MongoDB連線\n",
    "client = pymongo.MongoClient(host=\"mongodb\", port=27017)\n",
    "db = client.image\n",
    "myset = db.img\n",
    "\n",
    "\n",
    "\n",
    "\n",
    "app = Flask(__name__)\n",
    "@app.route(\"/\",methods=[\"POST\"])\n",
    "def recommend():\n",
    "    if flask.request.method == \"POST\":\n",
    "        userdata=flask.request.json\n",
    "    print(userdata)\n",
    "    cluster=clf.predict(np.array([userdata['age'],userdata['been2tko'],\n",
    "                                  userdata['days'],userdata['budget'],userdata['isFemale']]).reshape((1,-1)))[0]\n",
    "                        #omiyage variables: 年齡, 去過次數, 去幾天 , 總預算, 性別-男:0；女:1\n",
    "    print(cluster)\n",
    "    queryResult=[]\n",
    "    distribution_0={'餅乾類':3,'小蛋糕類':2,'點心類':3,'巧克力類':1,'夾心餅乾類':1}\n",
    "    distribution_1={'餅乾類':3,'小蛋糕類':2,'點心類':1,'巧克力類':2,'夾心餅乾類':2}\n",
    "    distribution_2={'餅乾類':3,'小蛋糕類':1,'點心類':2,'巧克力類':2,'夾心餅乾類':2}\n",
    "\n",
    "    if cluster == 0:\n",
    "        distribution=distribution_0\n",
    "    elif cluster == 1:\n",
    "        distribution=distribution_1\n",
    "    else:\n",
    "        distribution=distribution_2\n",
    "\n",
    "    #列出目錄下的所有圖片\n",
    "    files = os.listdir(\"/home/jovyan/work/Souvenir_pic\")\n",
    "    # print(files[1:])\n",
    "    for i,p in enumerate(files[1:]):\n",
    "        files_1 = glob.glob(\"/home/jovyan/work/Souvenir_pic/\" + p + \"/*.jpg\")\n",
    "    #     print(files_1)\n",
    "        #遍歷圖片目錄集合\n",
    "        for file in files_1:\n",
    "    #         print(file)\n",
    "            #圖片的全路徑\n",
    "            filename=file.split('/')[-1]\n",
    "    #         print(filename)\n",
    "\n",
    "        f = open(file, 'rb')\n",
    "    #     print(f)\n",
    "    #     print(type(f))\n",
    "\n",
    "        #轉換為mongodb二進位數據儲存形式\n",
    "        content = bson.binary.Binary(f.read())\n",
    "    #     print(type(content))\n",
    "        f.close()\n",
    "        #插入到數據庫\n",
    "        myset.insert({'filename':filename,'data':content})\n",
    "    #     print(myset)\n",
    "    #     print(type(myset))\n",
    "\n",
    "        #提取資料\n",
    "        data = myset.find_one({'filename':filename})\n",
    "    #     print(type(data['filename']))\n",
    "    #     print(data['filename']) \n",
    "\n",
    "\n",
    "    with connection.cursor() as cursor:\n",
    "        sql = \"USE`test`\"\n",
    "        cursor.execute(sql)\n",
    "        for kind in list(distribution.keys()): \n",
    "            cursor.execute( \"SELECT * FROM `trip4.csv` WHERE Types= '\"+kind+\"' ORDER BY RAND() LIMIT \"+str(distribution[kind]))          \n",
    "            queryResult+=cursor.fetchall()\n",
    "#     print(len(queryResult))\n",
    "    print(queryResult)\n",
    "    Data = []\n",
    "    for i in queryResult:\n",
    "        \n",
    "        imgname = i['souvenir'] + \".jpg\"\n",
    "        print(imgname)\n",
    "        #提圖片檔資料        \n",
    "        data = myset.find_one({'filename':imgname})\n",
    "#     print(data)\n",
    "        Data.append(data)\n",
    "    print(len(Data)) #幾張推薦商品圖片\n",
    "    # print(Data)\n",
    "#         data = myset.find_one({'filename':imgname})\n",
    "#         print(data['filename'])\n",
    "#         data = myset.find({'filename':filename})\n",
    "#         print(data)\n",
    "#         for s in data:\n",
    "#             print(s)\n",
    "    return dumps({'justakey':Data})\n",
    "\n",
    "if __name__ == \"__main__\":\n",
    "    clf = joblib.load('omiyage_clf.joblib')\n",
    "    \n",
    "    app.run()\n",
    "    "
   ]
  },
  {
   "cell_type": "code",
   "execution_count": null,
   "metadata": {},
   "outputs": [],
   "source": [
    "#MongoDB關閉連線\n",
    "client.close()\n",
    "\n",
    "#Mysql關閉連線\n",
    "connection.close()\n"
   ]
  }
 ],
 "metadata": {
  "kernelspec": {
   "display_name": "Python 3",
   "language": "python",
   "name": "python3"
  },
  "language_info": {
   "codemirror_mode": {
    "name": "ipython",
    "version": 3
   },
   "file_extension": ".py",
   "mimetype": "text/x-python",
   "name": "python",
   "nbconvert_exporter": "python",
   "pygments_lexer": "ipython3",
   "version": "3.7.3"
  }
 },
 "nbformat": 4,
 "nbformat_minor": 2
}
