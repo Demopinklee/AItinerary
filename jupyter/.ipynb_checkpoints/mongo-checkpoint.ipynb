{
 "cells": [
  {
   "cell_type": "markdown",
   "metadata": {},
   "source": [
    "##　For more information:\n",
    "github:https://github.com/mongodb/mongo-python-driver"
   ]
  },
  {
   "cell_type": "code",
   "execution_count": 1,
   "metadata": {},
   "outputs": [],
   "source": [
    "# import pymongo\n",
    "# # 與 MongoDB連線\n",
    "# client = pymongo.MongoClient(host=\"mongodb\", port=27017)\n",
    "# # 指定為 test 資料庫\n",
    "# db = client.test\n",
    "# # 指定 temp_humidity 集合, MongoDB的每個資料庫又包含許多集合(collection), 類似於關聯性資料庫中的表\n",
    "# collection = db.test\n",
    "# j=j={'key':'thisiskey','msg':'thisismsg'}\n",
    "# result = collection.insert_one(j)\n",
    "# collection.find_one()\n",
    "# client.close()"
   ]
  },
  {
   "cell_type": "code",
   "execution_count": 6,
   "metadata": {},
   "outputs": [
    {
     "ename": "SyntaxError",
     "evalue": "invalid syntax (<ipython-input-6-a0fe8cf9030d>, line 3)",
     "output_type": "error",
     "traceback": [
      "\u001b[0;36m  File \u001b[0;32m\"<ipython-input-6-a0fe8cf9030d>\"\u001b[0;36m, line \u001b[0;32m3\u001b[0m\n\u001b[0;31m    pip install json\u001b[0m\n\u001b[0m              ^\u001b[0m\n\u001b[0;31mSyntaxError\u001b[0m\u001b[0;31m:\u001b[0m invalid syntax\n"
     ]
    }
   ],
   "source": [
    "# pip install Pillow\n",
    "# !pip install jsonify\n"
   ]
  },
  {
   "cell_type": "code",
   "execution_count": 3,
   "metadata": {},
   "outputs": [],
   "source": [
    "# import pymongo\n",
    "# from pymongo import MongoClient\n",
    "# from gridfs import *\n",
    "# import os\n",
    "# import glob\n",
    "# # 與 MongoDB連線\n",
    "# client = pymongo.MongoClient(host=\"mongodb\", port=27017)\n",
    "# #取得對應的collection\n",
    "# db=client.image\n",
    "\n",
    "# #列出目錄下的所有圖片\n",
    "# files = os.listdir(\"/home/jovyan/work/Souvenir_pic\")\n",
    "# # print(files[1:])\n",
    "# for i,p in enumerate(files[1:]):\n",
    "#     files_1 = glob.glob(\"/home/jovyan/work/Souvenir_pic/\" + p + \"/*.jpg\")\n",
    "# #     print(files_1)\n",
    "#     #遍歷圖片目錄集合\n",
    "#     for file in files_1:\n",
    "# #         print(type(file))\n",
    "#         #圖片的全路徑\n",
    "# #         print(file.split('/')[-1])\n",
    "#         f = file.split('/')[-1]\n",
    "#         file_name = f.split('.')\n",
    "# #         print(file_name)      \n",
    "#         #讀取建立檔案\n",
    "#         datatmp = open(file, 'rb')\n",
    "# #         print(datatmp)\n",
    "#         #建立寫入流\n",
    "#         imgput = GridFS(db)\n",
    "#         print(type(imgput))\n",
    "#         #將資料寫入，檔案型別和名稱通過前面的分割得到\n",
    "#         insertimg=imgput.put(datatmp,content_type=f[1],file_name=f[0])\n",
    "#         print(insertimg)\n",
    "#         print(type(insertimg))\n",
    "#         datatmp.close() #關閉檔案\n",
    "# client.close()"
   ]
  },
  {
   "cell_type": "code",
   "execution_count": 8,
   "metadata": {},
   "outputs": [
    {
     "name": "stdout",
     "output_type": "stream",
     "text": [
      "<class '_io.BufferedReader'>\n",
      "<class 'bson.binary.Binary'>\n",
      "豊島屋「鳩サブレー」.jpg\n",
      "<class '_io.BufferedReader'>\n",
      "<class 'bson.binary.Binary'>\n",
      "日本橋錦豊琳「かりんとう」.jpg\n"
     ]
    },
    {
     "name": "stderr",
     "output_type": "stream",
     "text": [
      "/opt/conda/lib/python3.7/site-packages/ipykernel_launcher.py:35: DeprecationWarning: insert is deprecated. Use insert_one or insert_many instead.\n"
     ]
    }
   ],
   "source": [
    "# import jsonify\n",
    "# from jsonify import convert\n",
    "import json\n",
    "import pymongo\n",
    "from pymongo import MongoClient\n",
    "import bson.binary\n",
    "import os\n",
    "import glob\n",
    "\n",
    "client = pymongo.MongoClient(host=\"mongodb\", port=27017)\n",
    "db = client.image\n",
    "myset = db.img\n",
    "\n",
    "#列出目錄下的所有圖片\n",
    "files = os.listdir(\"/home/jovyan/work/Souvenir_pic\")\n",
    "# print(files[1:])\n",
    "for i,p in enumerate(files[1:3]):\n",
    "    files_1 = glob.glob(\"/home/jovyan/work/Souvenir_pic/\" + p + \"/*.jpg\")\n",
    "#     print(files_1)\n",
    "    #遍歷圖片目錄集合\n",
    "    for file in files_1:\n",
    "#         print(file)\n",
    "        #圖片的全路徑\n",
    "        filename=file.split('/')[-1]\n",
    "#         print(filename)\n",
    "    \n",
    "    f = open(file, 'rb')\n",
    "    print(type(f))\n",
    "    \n",
    "    #轉換為mongodb二進位數據儲存形式\n",
    "    content = bson.binary.Binary(f.read())\n",
    "    print(type(content))\n",
    "    f.close()\n",
    "    #插入到數據庫\n",
    "    myset.insert({'filename':filename,'data':content})\n",
    "#     print(myset)\n",
    "    \n",
    "    #提取\n",
    "    \n",
    "    data = myset.find_one({'filename':filename})\n",
    "#     print(data)\n",
    "    print(data['filename'])\n",
    "    #寫入儲存檔案\n",
    "#     with open(data['filename'], 'wb') as f:\n",
    "#         f.write(data['data'])  \n",
    "#         print(f)\n",
    "client.close()    "
   ]
  },
  {
   "cell_type": "code",
   "execution_count": null,
   "metadata": {},
   "outputs": [],
   "source": [
    "# #匯出圖片\n",
    "# from pymongo import MongoClient\n",
    "# from gridfs import *\n",
    "# client=MongoClient('mongodb',27017)\n",
    "# db=client.image\n",
    "# 實際上是由fs.flies和fs.chunks組成\n",
    "# gridFS = GridFS(db, collection=\"fs\")\n",
    "# count=0\n",
    "# Imgs=[]\n",
    "# for grid_out in gridFS.find():\n",
    "#     count+=1\n",
    "#     print(count)\n",
    "#     data = grid_out.read() # 獲取圖片資料\n",
    "#     outf = open(','wb')  #建立檔案\n",
    "#     outf.write(data)  # 儲存圖片\n",
    "#     print(outf)\n",
    "#     outf.close()"
   ]
  },
  {
   "cell_type": "code",
   "execution_count": null,
   "metadata": {},
   "outputs": [],
   "source": [
    "# #匯出圖片\n",
    "# from pymongo import MongoClient\n",
    "# import gridfs\n",
    "# from gridfs import *\n",
    "# client=MongoClient('mongodb',27017)\n",
    "# db = client.grid\n",
    "# #fs由fs.flies和fs.chunks組成\n",
    "# fs = gridfs.GridFS(db)\n",
    "# #查聞檔生產游標\n",
    "# files = fs.find()\n",
    "\n",
    "# #獲取每一文件的對象\n",
    "# for file in files:\n",
    "#     print(file.filename)\n",
    "#     if file.filename == 'file.jpg':\n",
    "#         with open(file.filename,'wb') as f:\n",
    "#             #從數據庫讀取出來\n",
    "#             data = file.read()\n",
    "#             print(data)\n",
    "#             #寫入本地\n",
    "#             f.write(data)\n",
    "# #             print(f)\n",
    "# # client.close()"
   ]
  }
 ],
 "metadata": {
  "kernelspec": {
   "display_name": "Python 3",
   "language": "python",
   "name": "python3"
  },
  "language_info": {
   "codemirror_mode": {
    "name": "ipython",
    "version": 3
   },
   "file_extension": ".py",
   "mimetype": "text/x-python",
   "name": "python",
   "nbconvert_exporter": "python",
   "pygments_lexer": "ipython3",
   "version": "3.7.3"
  }
 },
 "nbformat": 4,
 "nbformat_minor": 2
}
