{
 "cells": [
  {
   "cell_type": "code",
   "execution_count": 1,
   "metadata": {},
   "outputs": [
    {
     "name": "stdout",
     "output_type": "stream",
     "text": [
      " * Serving Flask app \"__main__\" (lazy loading)\n",
      " * Environment: production\n",
      "   WARNING: This is a development server. Do not use it in a production deployment.\n",
      "   Use a production WSGI server instead.\n",
      " * Debug mode: off\n"
     ]
    },
    {
     "name": "stderr",
     "output_type": "stream",
     "text": [
      " * Running on http://127.0.0.1:5000/ (Press CTRL+C to quit)\n",
      "127.0.0.1 - - [06/Nov/2019 08:21:17] \"POST / HTTP/1.1\" 200 -\n"
     ]
    },
    {
     "name": "stdout",
     "output_type": "stream",
     "text": [
      "{'age': 30, 'been2tko': 3, 'days': 5, 'budget': 50000, 'isFemale': 1}\n",
      "1\n",
      "[{'Types': '餅乾類', 'price': 580, 'ranking': 61, 'souvenir': 'ドルチェフェリーチェ「うえきゅんのキャンダック」', 'address': '上野駅\\u3000エキュート上野 3F', 'url': 'https://www.keyuca.com/dolce-felice/'}, {'Types': '餅乾類', 'price': 648, 'ranking': 30, 'souvenir': '桂新堂「パンダの旅」', 'address': '東京駅\\u3000グランスタ B1F', 'url': 'http://www.keishindo.co.jp'}, {'Types': '餅乾類', 'price': 480, 'ranking': 78, 'souvenir': '福太郎「めんべい」', 'address': '新宿駅\\u3000伊勢丹 B1F', 'url': 'http://candy-showtime.com'}, {'Types': '小蛋糕類', 'price': 411, 'ranking': 69, 'souvenir': 'クラブハリエ B-スタジオ「バームクーヘンmini」', 'address': '池袋駅\\u3000東武百貨店池袋店 B1F', 'url': 'http://clubharie.jp/baumkuchen/'}, {'Types': '小蛋糕類', 'price': 702, 'ranking': 73, 'souvenir': '東京ひよ子「焼きぽてと」', 'address': '羽田空港\\u3000第1旅客ターミナル 2F\\u3000東京食賓館', 'url': 'http://www.tokyo-hiyoko.co.jp/items/potato.html'}, {'Types': '點心類', 'price': 573, 'ranking': 90, 'souvenir': '菓匠 青柳正家「菊最中」', 'address': '浅草駅\\u3000エキミセ 1F', 'url': 'https://www.aoyagiseike.jp/shop/'}, {'Types': '巧克力類', 'price': 1404, 'ranking': 38, 'souvenir': 'ピエール・マルコリーニ 「マルコリーニ マドレーヌ ショコラ」', 'address': '羽田空港\\u3000第2旅客ターミナル 2F 東京食賓館[3番時計台前]', 'url': 'https://store.c-c-c.co.jp/DefaultBrandTop.aspx'}, {'Types': '巧克力類', 'price': 414, 'ranking': 36, 'souvenir': 'CAFE OHZAN（カフェオウザン）「クロワッサンラスク」', 'address': '銀座駅\\u3000銀座三越 B2F', 'url': 'http://onlineshop.cafe-ohzan.com/'}, {'Types': '夾心餅乾類', 'price': 1080, 'ranking': 39, 'souvenir': '叶 匠寿庵 「羽雲（はねぐも）」', 'address': '羽田空港\\u3000第1旅客ターミナル 2F\\u3000特選和菓子館', 'url': 'http://hanegumo.com'}, {'Types': '夾心餅乾類', 'price': 2096, 'ranking': 96, 'souvenir': '空いろ「つき」', 'address': '池袋駅 西武百貨店池袋本店 B1F', 'url': 'https://www.lupicia.com/shop/lp.aspx'}]\n"
     ]
    }
   ],
   "source": [
    "#第零分群:高花費 餅乾類 小蛋糕類 傳統點心類 夾心餅乾類; criteria: 伴手禮外型是否美觀大氣, 伴手禮知名度, 價格 , 美味程度\n",
    "#第一分群:餅乾類 小蛋糕類 傳統點心類 巧克力類 夾心餅乾類 果乾類; criteria: 伴手禮知名度, 價格, 美味程度\n",
    "#第二分群:餅乾類 小蛋糕類 傳統點心類 巧克力類 夾心餅乾類;criteria: 伴手禮知名度, 價格, 美味程度\n",
    "\n",
    "import pymysql\n",
    "import pymysql.cursors\n",
    "import joblib \n",
    "import numpy as np\n",
    "from flask import Flask\n",
    "import flask\n",
    "\n",
    "connection = pymysql.connect(host='mysql',\n",
    "                             user='root',\n",
    "                             password='iii',\n",
    "                             charset='utf8mb4',\n",
    "                             cursorclass=pymysql.cursors.DictCursor)\n",
    "\n",
    "app = Flask(__name__)\n",
    "@app.route(\"/\",methods=[\"POST\"])\n",
    "def recommend():\n",
    "    if flask.request.method == \"POST\":\n",
    "        userdata=flask.request.json\n",
    "    print(userdata)\n",
    "    cluster=clf.predict(np.array([userdata['age'],userdata['been2tko'],\n",
    "                                  userdata['days'],userdata['budget'],userdata['isFemale']]).reshape((1,-1)))[0]\n",
    "            #omiyage variables: 年齡, 去過次數, 去幾天 , 總預算, 性別-男:0；女:1\n",
    "    print(cluster)\n",
    "    queryResult=[]\n",
    "    distribution_0={'餅乾類':3,'小蛋糕類':2,'點心類':3,'巧克力類':1,'夾心餅乾類':1}\n",
    "    distribution_1={'餅乾類':3,'小蛋糕類':2,'點心類':1,'巧克力類':2,'夾心餅乾類':2}\n",
    "    distribution_2={'餅乾類':3,'小蛋糕類':1,'點心類':2,'巧克力類':2,'夾心餅乾類':2}\n",
    "    if cluster == 0:\n",
    "        distribution=distribution_0\n",
    "    elif cluster == 1:\n",
    "        distribution=distribution_1\n",
    "    else:\n",
    "        distribution=distribution_2\n",
    "    with connection.cursor() as cursor:\n",
    "        sql = \"USE`test`\"\n",
    "        cursor.execute(sql)\n",
    "        for kind in list(distribution.keys()): \n",
    "            cursor.execute( \"SELECT * FROM `trip4.csv` WHERE Types= '\"+kind+\"' ORDER BY RAND() LIMIT \"+str(distribution[kind]))          \n",
    "            queryResult+=cursor.fetchall()\n",
    "    print(queryResult)\n",
    "    \n",
    "    \n",
    "#     連線資料庫mongodb()\n",
    "#     img = get(id = 13)\n",
    "#     img.convert()\n",
    "    \n",
    "    return flask.jsonify(queryResult)\n",
    "#string, dict, tuple, Response instance\n",
    "\n",
    "if __name__ == \"__main__\":\n",
    "    clf = joblib.load('omiyage_clf.joblib')\n",
    "    \n",
    "    app.run()\n",
    "                     \n",
    "    \n",
    "\n",
    "    "
   ]
  },
  {
   "cell_type": "code",
   "execution_count": 2,
   "metadata": {},
   "outputs": [],
   "source": [
    "connection.close()"
   ]
  }
 ],
 "metadata": {
  "kernelspec": {
   "display_name": "Python 3",
   "language": "python",
   "name": "python3"
  },
  "language_info": {
   "codemirror_mode": {
    "name": "ipython",
    "version": 3
   },
   "file_extension": ".py",
   "mimetype": "text/x-python",
   "name": "python",
   "nbconvert_exporter": "python",
   "pygments_lexer": "ipython3",
   "version": "3.7.3"
  }
 },
 "nbformat": 4,
 "nbformat_minor": 2
}
