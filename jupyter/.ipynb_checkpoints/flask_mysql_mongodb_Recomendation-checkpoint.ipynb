{
 "cells": [
  {
   "cell_type": "code",
   "execution_count": 1,
   "metadata": {},
   "outputs": [
    {
     "name": "stdout",
     "output_type": "stream",
     "text": [
      " * Serving Flask app \"__main__\" (lazy loading)\n",
      " * Environment: production\n",
      "   WARNING: This is a development server. Do not use it in a production deployment.\n",
      "   Use a production WSGI server instead.\n",
      " * Debug mode: off\n"
     ]
    },
    {
     "name": "stderr",
     "output_type": "stream",
     "text": [
      " * Running on http://127.0.0.1:5000/ (Press CTRL+C to quit)\n"
     ]
    },
    {
     "name": "stdout",
     "output_type": "stream",
     "text": [
      "{'age': 30, 'been2tko': 4, 'days': 16, 'budget': 50000, 'isFemale': 1}\n",
      "1\n"
     ]
    },
    {
     "name": "stderr",
     "output_type": "stream",
     "text": [
      "/opt/conda/lib/python3.7/site-packages/ipykernel_launcher.py:76: DeprecationWarning: insert is deprecated. Use insert_one or insert_many instead.\n"
     ]
    },
    {
     "name": "stdout",
     "output_type": "stream",
     "text": [
      "[{'Types': '餅乾類', 'price': 1500, 'ranking': 83, 'souvenir': 'フェアリーケーキフェア「トーキョーステーションビスケット東京駅丸の内駅舎」', 'address': '\\u3000東京駅\\u3000グランスタ B1F', 'url': 'http://www.fairycake.jp/tokyo-station-biscuits/'}, {'Types': '餅乾類', 'price': 2160, 'ranking': 22, 'souvenir': 'BABBI 銀座松屋\\u3000「グランワッフェリーニ セット」', 'address': '銀座駅\\u3000松屋銀座 B1F', 'url': 'http://www.babbi.co.jp'}, {'Types': '餅乾類', 'price': 1080, 'ranking': 71, 'souvenir': 'ノワ・ドゥ・ブール「サブレ・アマンド」', 'address': '新宿駅\\u3000伊勢丹 B1F', 'url': 'http://noix-de-beurre.com'}, {'Types': '小蛋糕類', 'price': 778, 'ranking': 20, 'souvenir': 'フレデリック・カッセル銀座三越「ミルフイユ・ヴァニーユ」', 'address': '銀座駅\\u3000銀座三越 B2F', 'url': 'http://www.frederic-cassel.jp/specialite/'}, {'Types': '小蛋糕類', 'price': 515, 'ranking': 88, 'souvenir': '東京ばな奈パンダ「バナナヨーグルト味、見ぃつけたっ」', 'address': '上野駅\\u3000エキュート上野 3F', 'url': 'http://www.tokyo-hiyoko.co.jp/shop/anya.html'}, {'Types': '點心類', 'price': 216, 'ranking': 84, 'souvenir': 'モロゾフ「カスタードプリン」', 'address': '新宿駅\\u3000小田急百貨店本館 B2F', 'url': 'http://www.morozoff.co.jp/products/pudding/'}, {'Types': '巧克力類', 'price': 414, 'ranking': 36, 'souvenir': 'CAFE OHZAN（カフェオウザン）「クロワッサンラスク」', 'address': '銀座駅\\u3000銀座三越 B2F', 'url': 'http://onlineshop.cafe-ohzan.com/'}, {'Types': '巧克力類', 'price': 675, 'ranking': 48, 'souvenir': 'ラ･メゾン･デュ･ショコラ「ショコラ」', 'address': '銀座駅\\u3000松屋銀座 B1F', 'url': 'http://www.lamaisonduchocolat.co.jp/ja_jp/'}, {'Types': '夾心餅乾類', 'price': 920, 'ranking': 1, 'souvenir': 'ザ・メープルマニア「メープルバタークッキー」', 'address': '東京駅\\u3000グランスタ B1F', 'url': 'なし'}, {'Types': '夾心餅乾類', 'price': 1080, 'ranking': 15, 'souvenir': 'ミルフィユメゾン フランセ「ミルフィユスペシャリテ」', 'address': '銀座駅\\u3000松屋銀座B1F', 'url': 'http://millefeuillemaison.jp'}]\n",
      "フェアリーケーキフェア「トーキョーステーションビスケット東京駅丸の内駅舎」.jpg\n",
      "BABBI 銀座松屋　「グランワッフェリーニ セット」.jpg\n",
      "ノワ・ドゥ・ブール「サブレ・アマンド」.jpg\n",
      "フレデリック・カッセル銀座三越「ミルフイユ・ヴァニーユ」.jpg\n",
      "東京ばな奈パンダ「バナナヨーグルト味、見ぃつけたっ」.jpg\n",
      "モロゾフ「カスタードプリン」.jpg\n",
      "CAFE OHZAN（カフェオウザン）「クロワッサンラスク」.jpg\n",
      "ラ･メゾン･デュ･ショコラ「ショコラ」.jpg\n",
      "ザ・メープルマニア「メープルバタークッキー」.jpg\n",
      "ミルフィユメゾン フランセ「ミルフィユスペシャリテ」.jpg\n"
     ]
    },
    {
     "name": "stderr",
     "output_type": "stream",
     "text": [
      "127.0.0.1 - - [08/Nov/2019 04:54:32] \"POST / HTTP/1.1\" 200 -\n"
     ]
    },
    {
     "name": "stdout",
     "output_type": "stream",
     "text": [
      "10\n",
      "{'age': 30, 'been2tko': 4, 'days': 16, 'budget': 50000, 'isFemale': 1}\n",
      "1\n"
     ]
    },
    {
     "name": "stderr",
     "output_type": "stream",
     "text": [
      "/opt/conda/lib/python3.7/site-packages/ipykernel_launcher.py:76: DeprecationWarning: insert is deprecated. Use insert_one or insert_many instead.\n"
     ]
    },
    {
     "name": "stdout",
     "output_type": "stream",
     "text": [
      "[{'Types': '餅乾類', 'price': 1080, 'ranking': 52, 'souvenir': 'ヨックモック「東京スカイツリー 缶 プティ シガール」', 'address': '東京スカイツリー\\u3000東京ソラマチ 4F', 'url': 'https://www.yokumoku.jp/yokumoku/cms/preview.php'}, {'Types': '餅乾類', 'price': 648, 'ranking': 30, 'souvenir': '桂新堂「パンダの旅」', 'address': '東京駅\\u3000グランスタ B1F', 'url': 'http://www.keishindo.co.jp'}, {'Types': '餅乾類', 'price': 1080, 'ranking': 67, 'souvenir': '銀座 菊廼舎（きくのや）「冨貴寄-ふきよせ-」', 'address': '渋谷駅\\u3000渋谷マークシティB1F', 'url': 'http://www.testarossacafe.net/'}, {'Types': '小蛋糕類', 'price': 850, 'ranking': 55, 'souvenir': 'マミーズ･アン･スリール「パンダのアップルパイ」', 'address': '上野駅\\u3000エキュート上野 3F', 'url': 'http://www.net-ekinaka.com/shop/g/gRNUNSWET1841-RSP5002/'}, {'Types': '小蛋糕類', 'price': 2484, 'ranking': 58, 'souvenir': '日本茶菓SANOAH「キャラメルサンドクッキー 胡桃抹茶」', 'address': '新宿駅\\u3000伊勢丹 B1F', 'url': 'http://www.n-sanoah.jp/product/itm-sta-ks'}, {'Types': '點心類', 'price': 330, 'ranking': 14, 'souvenir': '仁々木「苺大福」', 'address': '新宿駅\\u3000NEWoman（ニュウマン）エキナカ 2F', 'url': 'http://millefeuillemaison.jp'}, {'Types': '巧克力類', 'price': 648, 'ranking': 46, 'souvenir': 'コロンバン「東京駅焼きショコラ」', 'address': '東京駅\\u3000グランスタ B1F', 'url': 'http://www.wagashi-miyabian.com'}, {'Types': '巧克力類', 'price': 414, 'ranking': 36, 'souvenir': 'CAFE OHZAN（カフェオウザン）「クロワッサンラスク」', 'address': '銀座駅\\u3000銀座三越 B2F', 'url': 'http://onlineshop.cafe-ohzan.com/'}, {'Types': '夾心餅乾類', 'price': 864, 'ranking': 81, 'souvenir': '東京ミルクチーズ工場「ソルト＆カマンベール」', 'address': '東京駅\\u3000京葉ストリート 1F', 'url': 'http://www.rl-waffle.co.jp'}, {'Types': '夾心餅乾類', 'price': 240, 'ranking': 16, 'souvenir': 'La Famille「シフォンケーキ」', 'address': '池袋駅周辺\\u3000東京都豊島区西池袋3-4-6 今村ビル1F', 'url': 'http://www.ikesen.net/cafe/La%20Famille/index.html'}]\n",
      "ヨックモック「東京スカイツリー 缶 プティ シガール」.jpg\n",
      "桂新堂「パンダの旅」.jpg\n",
      "銀座 菊廼舎（きくのや）「冨貴寄-ふきよせ-」.jpg\n",
      "マミーズ･アン･スリール「パンダのアップルパイ」.jpg\n",
      "日本茶菓SANOAH「キャラメルサンドクッキー 胡桃抹茶」.jpg\n",
      "仁々木「苺大福」.jpg\n",
      "コロンバン「東京駅焼きショコラ」.jpg\n",
      "CAFE OHZAN（カフェオウザン）「クロワッサンラスク」.jpg\n",
      "東京ミルクチーズ工場「ソルト＆カマンベール」.jpg\n",
      "La Famille「シフォンケーキ」.jpg\n"
     ]
    },
    {
     "name": "stderr",
     "output_type": "stream",
     "text": [
      "127.0.0.1 - - [08/Nov/2019 08:21:05] \"POST / HTTP/1.1\" 200 -\n"
     ]
    },
    {
     "name": "stdout",
     "output_type": "stream",
     "text": [
      "10\n",
      "{'age': 30, 'been2tko': 4, 'days': 16, 'budget': 50000, 'isFemale': 1}\n",
      "1\n"
     ]
    },
    {
     "name": "stderr",
     "output_type": "stream",
     "text": [
      "/opt/conda/lib/python3.7/site-packages/ipykernel_launcher.py:76: DeprecationWarning: insert is deprecated. Use insert_one or insert_many instead.\n"
     ]
    },
    {
     "name": "stdout",
     "output_type": "stream",
     "text": [
      "[{'Types': '餅乾類', 'price': 580, 'ranking': 61, 'souvenir': 'ドルチェフェリーチェ「うえきゅんのキャンダック」', 'address': '上野駅\\u3000エキュート上野 3F', 'url': 'https://www.keyuca.com/dolce-felice/'}, {'Types': '餅乾類', 'price': 450, 'ranking': 4, 'souvenir': 'アンド ザ フリット「ドライフリット」', 'address': '渋谷駅\\u3000渋谷ヒカリエShinQs B2F', 'url': 'http://andthefriet.com/driedfriet/'}, {'Types': '餅乾類', 'price': 1080, 'ranking': 52, 'souvenir': 'ヨックモック「東京スカイツリー 缶 プティ シガール」', 'address': '東京スカイツリー\\u3000東京ソラマチ 4F', 'url': 'https://www.yokumoku.jp/yokumoku/cms/preview.php'}, {'Types': '小蛋糕類', 'price': 972, 'ranking': 62, 'souvenir': 'セバスチャン ブイエ「タルトレット」', 'address': '池袋駅\\u3000西武百貨店池袋本店 B1F 中央A3', 'url': 'http://www.bouillet.jp/html/item/tartelette.html'}, {'Types': '小蛋糕類', 'price': 411, 'ranking': 69, 'souvenir': 'クラブハリエ B-スタジオ「バームクーヘンmini」', 'address': '池袋駅\\u3000東武百貨店池袋店 B1F', 'url': 'http://clubharie.jp/baumkuchen/'}, {'Types': '點心類', 'price': 550, 'ranking': 79, 'souvenir': 'candy SHOW TIME「TOKYO SKYTREE TOWN® MIX」', 'address': '東京ソラマチ1F', 'url': 'http://candy-showtime.com'}, {'Types': '巧克力類', 'price': 675, 'ranking': 48, 'souvenir': 'ラ･メゾン･デュ･ショコラ「ショコラ」', 'address': '銀座駅\\u3000松屋銀座 B1F', 'url': 'http://www.lamaisonduchocolat.co.jp/ja_jp/'}, {'Types': '巧克力類', 'price': 414, 'ranking': 36, 'souvenir': 'CAFE OHZAN（カフェオウザン）「クロワッサンラスク」', 'address': '銀座駅\\u3000銀座三越 B2F', 'url': 'http://onlineshop.cafe-ohzan.com/'}, {'Types': '夾心餅乾類', 'price': 920, 'ranking': 1, 'souvenir': 'ザ・メープルマニア「メープルバタークッキー」', 'address': '東京駅\\u3000グランスタ B1F', 'url': 'なし'}, {'Types': '夾心餅乾類', 'price': 1080, 'ranking': 2, 'souvenir': 'かみなり舎「ニューヨークパーフェクトチーズ」', 'address': '東京駅構内南通路', 'url': 'なし'}]\n",
      "ドルチェフェリーチェ「うえきゅんのキャンダック」.jpg\n",
      "アンド ザ フリット「ドライフリット」.jpg\n",
      "ヨックモック「東京スカイツリー 缶 プティ シガール」.jpg\n",
      "セバスチャン ブイエ「タルトレット」.jpg\n",
      "クラブハリエ B-スタジオ「バームクーヘンmini」.jpg\n",
      "candy SHOW TIME「TOKYO SKYTREE TOWN® MIX」.jpg\n",
      "ラ･メゾン･デュ･ショコラ「ショコラ」.jpg\n",
      "CAFE OHZAN（カフェオウザン）「クロワッサンラスク」.jpg\n",
      "ザ・メープルマニア「メープルバタークッキー」.jpg\n",
      "かみなり舎「ニューヨークパーフェクトチーズ」.jpg\n",
      "10\n"
     ]
    },
    {
     "name": "stderr",
     "output_type": "stream",
     "text": [
      "127.0.0.1 - - [08/Nov/2019 08:54:11] \"POST / HTTP/1.1\" 200 -\n"
     ]
    },
    {
     "name": "stdout",
     "output_type": "stream",
     "text": [
      "{'age': 30, 'been2tko': 4, 'days': 16, 'budget': 50000, 'isFemale': 1}\n",
      "1\n"
     ]
    },
    {
     "name": "stderr",
     "output_type": "stream",
     "text": [
      "/opt/conda/lib/python3.7/site-packages/ipykernel_launcher.py:76: DeprecationWarning: insert is deprecated. Use insert_one or insert_many instead.\n"
     ]
    },
    {
     "name": "stdout",
     "output_type": "stream",
     "text": [
      "[{'Types': '餅乾類', 'price': 1500, 'ranking': 83, 'souvenir': 'フェアリーケーキフェア「トーキョーステーションビスケット東京駅丸の内駅舎」', 'address': '\\u3000東京駅\\u3000グランスタ B1F', 'url': 'http://www.fairycake.jp/tokyo-station-biscuits/'}, {'Types': '餅乾類', 'price': 648, 'ranking': 57, 'souvenir': '桂新堂「渋谷えびせんべい」', 'address': '渋谷駅\\u3000渋谷ヒカリエShinQs B2F', 'url': 'http://www.keishindo.co.jp'}, {'Types': '餅乾類', 'price': 648, 'ranking': 30, 'souvenir': '桂新堂「パンダの旅」', 'address': '東京駅\\u3000グランスタ B1F', 'url': 'http://www.keishindo.co.jp'}, {'Types': '小蛋糕類', 'price': 411, 'ranking': 69, 'souvenir': 'クラブハリエ B-スタジオ「バームクーヘンmini」', 'address': '池袋駅\\u3000東武百貨店池袋店 B1F', 'url': 'http://clubharie.jp/baumkuchen/'}, {'Types': '小蛋糕類', 'price': 648, 'ranking': 100, 'souvenir': '豊島屋「鳩サブレー」', 'address': '品川駅\\u3000エキュート品川サウス 1F', 'url': 'なし'}, {'Types': '點心類', 'price': 1998, 'ranking': 44, 'souvenir': '欧風洋菓子店SHIMIZU「浅草ブランデーケーキ」', 'address': '浅草駅\\u3000エキミセ 1F', 'url': 'https://asakusashimizu.com/'}, {'Types': '巧克力類', 'price': 702, 'ranking': 42, 'souvenir': 'ベルン「ミルフィーユ」', 'address': '品川駅\\u3000エキュート品川サウス 1F', 'url': 'http://hacci1912.com/'}, {'Types': '巧克力類', 'price': 648, 'ranking': 46, 'souvenir': 'コロンバン「東京駅焼きショコラ」', 'address': '東京駅\\u3000グランスタ B1F', 'url': 'http://www.wagashi-miyabian.com'}, {'Types': '夾心餅乾類', 'price': 680, 'ranking': 76, 'souvenir': '羽田空港オリジナル「東京リッチサンド 抹茶」', 'address': '羽田空港第1旅客ターミナル 2F PIER 4', 'url': 'なし'}, {'Types': '夾心餅乾類', 'price': 540, 'ranking': 6, 'souvenir': 'N.Y.キャラメルサンド「N.Y.C.SAND（ニューヨークシティサンド）」', 'address': '羽田空港 第1旅客ターミナル2F\\u3000東京食賓館[Eゲート前]', 'url': 'https://ringo-applepie.com'}]\n",
      "フェアリーケーキフェア「トーキョーステーションビスケット東京駅丸の内駅舎」.jpg\n",
      "桂新堂「渋谷えびせんべい」.jpg\n",
      "桂新堂「パンダの旅」.jpg\n",
      "クラブハリエ B-スタジオ「バームクーヘンmini」.jpg\n",
      "豊島屋「鳩サブレー」.jpg\n",
      "欧風洋菓子店SHIMIZU「浅草ブランデーケーキ」.jpg\n",
      "ベルン「ミルフィーユ」.jpg\n",
      "コロンバン「東京駅焼きショコラ」.jpg\n",
      "羽田空港オリジナル「東京リッチサンド 抹茶」.jpg\n",
      "N.Y.キャラメルサンド「N.Y.C.SAND（ニューヨークシティサンド）」.jpg\n"
     ]
    },
    {
     "name": "stderr",
     "output_type": "stream",
     "text": [
      "127.0.0.1 - - [08/Nov/2019 11:58:42] \"POST / HTTP/1.1\" 200 -\n"
     ]
    },
    {
     "name": "stdout",
     "output_type": "stream",
     "text": [
      "10\n"
     ]
    }
   ],
   "source": [
    "import jsonify\n",
    "import flask\n",
    "from flask import Flask\n",
    "import os\n",
    "import glob\n",
    "import pymongo\n",
    "from pymongo import MongoClient\n",
    "import bson.binary\n",
    "import bson.objectid\n",
    "import bson.errors\n",
    "from PIL import Image\n",
    "import joblib \n",
    "import numpy as np\n",
    "import pymysql\n",
    "import pymysql.cursors\n",
    "from  bson.json_util import dumps\n",
    "#與 Mysql連線\n",
    "connection = pymysql.connect(host='mysql',\n",
    "                             user='root',\n",
    "                             password='iii',\n",
    "                             charset='utf8mb4',\n",
    "                             cursorclass=pymysql.cursors.DictCursor)\n",
    "\n",
    "#與 MongoDB連線\n",
    "client = pymongo.MongoClient(host=\"mongodb\", port=27017)\n",
    "db = client.image\n",
    "myset = db.img\n",
    "\n",
    "\n",
    "\n",
    "\n",
    "app = Flask(__name__)\n",
    "@app.route(\"/\",methods=[\"POST\"])\n",
    "def recommend():\n",
    "    if flask.request.method == \"POST\":\n",
    "        userdata=flask.request.json\n",
    "    print(userdata)\n",
    "    cluster=clf.predict(np.array([userdata['age'],userdata['been2tko'],\n",
    "                                  userdata['days'],userdata['budget'],userdata['isFemale']]).reshape((1,-1)))[0]\n",
    "                        #omiyage variables: 年齡, 去過次數, 去幾天 , 總預算, 性別-男:0；女:1\n",
    "    print(cluster)\n",
    "    queryResult=[]\n",
    "    distribution_0={'餅乾類':3,'小蛋糕類':2,'點心類':3,'巧克力類':1,'夾心餅乾類':1}\n",
    "    distribution_1={'餅乾類':3,'小蛋糕類':2,'點心類':1,'巧克力類':2,'夾心餅乾類':2}\n",
    "    distribution_2={'餅乾類':3,'小蛋糕類':1,'點心類':2,'巧克力類':2,'夾心餅乾類':2}\n",
    "\n",
    "    if cluster == 0:\n",
    "        distribution=distribution_0\n",
    "    elif cluster == 1:\n",
    "        distribution=distribution_1\n",
    "    else:\n",
    "        distribution=distribution_2\n",
    "\n",
    "    #列出目錄下的所有圖片\n",
    "    files = os.listdir(\"/home/jovyan/work/Souvenir_pic\")\n",
    "    # print(files[1:])\n",
    "    for i,p in enumerate(files[1:]):\n",
    "        files_1 = glob.glob(\"/home/jovyan/work/Souvenir_pic/\" + p + \"/*.jpg\")\n",
    "    #     print(files_1)\n",
    "        #遍歷圖片目錄集合\n",
    "        for file in files_1:\n",
    "    #         print(file)\n",
    "            #圖片的全路徑\n",
    "            filename=file.split('/')[-1]\n",
    "    #         print(filename)\n",
    "\n",
    "        f = open(file, 'rb')\n",
    "    #     print(f)\n",
    "    #     print(type(f))\n",
    "\n",
    "        #轉換為mongodb二進位數據儲存形式\n",
    "        content = bson.binary.Binary(f.read())\n",
    "    #     print(type(content))\n",
    "        f.close()\n",
    "        #插入到數據庫\n",
    "        myset.insert({'filename':filename,'data':content})\n",
    "    #     print(myset)\n",
    "    #     print(type(myset))\n",
    "\n",
    "        #提取資料\n",
    "        data = myset.find_one({'filename':filename})\n",
    "    #     print(type(data['filename']))\n",
    "    #     print(data['filename']) \n",
    "\n",
    "\n",
    "    with connection.cursor() as cursor:\n",
    "        sql = \"USE`test`\"\n",
    "        cursor.execute(sql)\n",
    "        for kind in list(distribution.keys()): \n",
    "            cursor.execute( \"SELECT * FROM `trip4.csv` WHERE Types= '\"+kind+\"' ORDER BY RAND() LIMIT \"+str(distribution[kind]))          \n",
    "            queryResult+=cursor.fetchall()\n",
    "#     print(len(queryResult))\n",
    "    print(queryResult)\n",
    "    Data = []\n",
    "    for i in queryResult:\n",
    "        \n",
    "        imgname = i['souvenir'] + \".jpg\"\n",
    "        print(imgname)\n",
    "        #提圖片檔資料        \n",
    "        data = myset.find_one({'filename':imgname})\n",
    "#     print(data)\n",
    "        Data.append(data)\n",
    "    print(len(Data)) #幾張推薦商品圖片\n",
    "    # print(Data)\n",
    "#         data = myset.find_one({'filename':imgname})\n",
    "#         print(data['filename'])\n",
    "#         data = myset.find({'filename':filename})\n",
    "#         print(data)\n",
    "#         for s in data:\n",
    "#             print(s)\n",
    "    return dumps({'justakey':Data})\n",
    "\n",
    "if __name__ == \"__main__\":\n",
    "    clf = joblib.load('omiyage_clf.joblib')\n",
    "    \n",
    "    app.run()\n",
    "    "
   ]
  },
  {
   "cell_type": "code",
   "execution_count": 2,
   "metadata": {},
   "outputs": [],
   "source": [
    "#MongoDB關閉連線\n",
    "client.close()\n",
    "\n",
    "#Mysql關閉連線\n",
    "connection.close()\n"
   ]
  }
 ],
 "metadata": {
  "kernelspec": {
   "display_name": "Python 3",
   "language": "python",
   "name": "python3"
  },
  "language_info": {
   "codemirror_mode": {
    "name": "ipython",
    "version": 3
   },
   "file_extension": ".py",
   "mimetype": "text/x-python",
   "name": "python",
   "nbconvert_exporter": "python",
   "pygments_lexer": "ipython3",
   "version": "3.7.3"
  }
 },
 "nbformat": 4,
 "nbformat_minor": 2
}
