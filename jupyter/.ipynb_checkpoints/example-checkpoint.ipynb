{
 "cells": [
  {
   "cell_type": "code",
   "execution_count": 4,
   "metadata": {},
   "outputs": [
    {
     "data": {
      "text/plain": [
       "0"
      ]
     },
     "execution_count": 4,
     "metadata": {},
     "output_type": "execute_result"
    }
   ],
   "source": [
    "import joblib \n",
    "import numpy as np\n",
    "clf = joblib.load('spot_clf.joblib')\n",
    "clf.predict(np.array([20,19,8,50000,0]).reshape((1,-1)))[0]"
   ]
  },
  {
   "cell_type": "markdown",
   "metadata": {},
   "source": [
    "## airplane variables:  age, been2tko, 去幾天 , 總預算,is Female,機票花費\n",
    "## spot variables: age, been2tko, 去幾天 , 總預算,is Female\n",
    "## hotel variables: age, been2tko, 去幾天 , 總預算,is Female, 住宿預算\n",
    "## food variables: age, been2tko, 去幾天 , 總預算,is Female, 一餐預算\n",
    "## omiyage variables: age, been2tko, 去幾天 , 總預算,is Female"
   ]
  }
 ],
 "metadata": {
  "kernelspec": {
   "display_name": "Python 3",
   "language": "python",
   "name": "python3"
  },
  "language_info": {
   "codemirror_mode": {
    "name": "ipython",
    "version": 3
   },
   "file_extension": ".py",
   "mimetype": "text/x-python",
   "name": "python",
   "nbconvert_exporter": "python",
   "pygments_lexer": "ipython3",
   "version": "3.7.3"
  }
 },
 "nbformat": 4,
 "nbformat_minor": 2
}
