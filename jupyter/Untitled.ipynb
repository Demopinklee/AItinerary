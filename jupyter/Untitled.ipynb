{
 "cells": [
  {
   "cell_type": "code",
   "execution_count": null,
   "metadata": {},
   "outputs": [
    {
     "name": "stdout",
     "output_type": "stream",
     "text": [
      "Word2Vec(vocab=19967, size=500, alpha=0.025)\n",
      " * Serving Flask app \"__main__\" (lazy loading)\n",
      " * Environment: production\n",
      "   WARNING: This is a development server. Do not use it in a production deployment.\n",
      "   Use a production WSGI server instead.\n",
      " * Debug mode: off\n"
     ]
    },
    {
     "name": "stderr",
     "output_type": "stream",
     "text": [
      " * Running on http://127.0.0.1:5000/ (Press CTRL+C to quit)\n",
      "127.0.0.1 - - [30/Oct/2019 11:27:15] \"POST / HTTP/1.1\" 200 -\n"
     ]
    },
    {
     "name": "stdout",
     "output_type": "stream",
     "text": [
      "[('天空樹', 0.8645009398460388), ('吾妻橋', 0.7676184177398682), ('押上', 0.7524865865707397), ('淺草文化觀光中心', 0.7484387755393982), ('雷門', 0.736383318901062), ('淺草', 0.707563042640686), ('沒上', 0.6920802593231201), ('隅田川', 0.6892359256744385), ('晴空', 0.6858780384063721), ('東京鐵塔', 0.6805784702301025), ('十間', 0.6717779636383057), ('梧棲', 0.6348453760147095), ('淺草寺', 0.6321864724159241), ('仲見世通', 0.6262862086296082), ('夜拍', 0.6256210803985596), ('隅田公園', 0.6234453320503235), ('地標', 0.6133071184158325), ('塔內', 0.6100966930389404), ('夜景', 0.607599139213562), ('森橋', 0.6016690731048584), ('人形', 0.5823900699615479), ('龍名館', 0.5809824466705322), ('踏踏', 0.5778020024299622), ('鐵塔', 0.5777281522750854), ('法院', 0.5763353109359741), ('娜娜', 0.5714756846427917), ('上塔', 0.5665973424911499), ('高塔', 0.5649352073669434), ('河濱', 0.5610182881355286), ('日景', 0.5553773641586304), ('神谷', 0.5529854893684387), ('插播', 0.5523673295974731), ('錦系', 0.5522138476371765), ('高到', 0.5473842620849609), ('拍攝點', 0.5462946891784668), ('展望台', 0.5447540879249573), ('眺望台', 0.5418397188186646), ('彩虹大橋', 0.5415710806846619), ('觀景台', 0.5379411578178406), ('觀景', 0.5352463722229004), ('望甲板', 0.5339611768722534), ('墨田區', 0.530335545539856), ('遠眺', 0.5303270220756531), ('線藏', 0.5290799140930176), ('一覽', 0.5284842848777771), ('崎線', 0.5192142724990845), ('夜晚', 0.5156189203262329), ('三定', 0.5150291919708252), ('東北方', 0.5149273872375488), ('高樓群', 0.5137702822685242)]\n"
     ]
    }
   ],
   "source": [
    "from flask import Flask\n",
    "import flask\n",
    "#import bytes\n",
    "from gensim.models import word2vec\n",
    "\n",
    "app = Flask(__name__)\n",
    "@app.route(\"/\",methods=[\"POST\"])\n",
    "def recommend():\n",
    "    if flask.request.method == \"POST\":\n",
    "        query=flask.request.json\n",
    "        ans=''\n",
    "        print (model.wv.similar_by_word(query['spot'],50))\n",
    "        try:\n",
    "            for word in model.wv.similar_by_word(query['spot'],50):\n",
    "                ans+=word[0]+'\\n'\n",
    "            return ans\n",
    "        except:\n",
    "            return 'No such word in vocabulary'\n",
    "\n",
    "if __name__ == \"__main__\":\n",
    "    model = word2vec.Word2Vec.load(\"word2vec.model\")\n",
    "    print(model)\n",
    "    app.run()"
   ]
  },
  {
   "cell_type": "code",
   "execution_count": 3,
   "metadata": {},
   "outputs": [
    {
     "name": "stdout",
     "output_type": "stream",
     "text": [
      "Collecting gensim\n",
      "\u001b[?25l  Downloading https://files.pythonhosted.org/packages/44/93/c6011037f24e3106d13f3be55297bf84ece2bf15b278cc4776339dc52db5/gensim-3.8.1-cp37-cp37m-manylinux1_x86_64.whl (24.2MB)\n",
      "\u001b[K     |████████████████████████████████| 24.2MB 3.3MB/s eta 0:00:01                           | 3.2MB 3.3MB/s eta 0:00:07████▏                     | 7.7MB 3.3MB/s eta 0:00:06██████████████                  | 10.6MB 3.3MB/s eta 0:00:05:00:03 eta 0:00:02▌   | 21.6MB 3.3MB/s eta 0:00:01\n",
      "\u001b[?25hRequirement already satisfied: six>=1.5.0 in /home/cloudera/anaconda3/lib/python3.7/site-packages (from gensim) (1.12.0)\n",
      "Collecting smart-open>=1.8.1 (from gensim)\n",
      "\u001b[?25l  Downloading https://files.pythonhosted.org/packages/37/c0/25d19badc495428dec6a4bf7782de617ee0246a9211af75b302a2681dea7/smart_open-1.8.4.tar.gz (63kB)\n",
      "\u001b[K     |████████████████████████████████| 71kB 17.5MB/s eta 0:00:01\n",
      "\u001b[?25hRequirement already satisfied: numpy>=1.11.3 in /home/cloudera/anaconda3/lib/python3.7/site-packages (from gensim) (1.17.2)\n",
      "Requirement already satisfied: scipy>=0.18.1 in /home/cloudera/anaconda3/lib/python3.7/site-packages (from gensim) (1.3.1)\n",
      "Requirement already satisfied: boto>=2.32 in /home/cloudera/anaconda3/lib/python3.7/site-packages (from smart-open>=1.8.1->gensim) (2.49.0)\n",
      "Requirement already satisfied: requests in /home/cloudera/anaconda3/lib/python3.7/site-packages (from smart-open>=1.8.1->gensim) (2.22.0)\n",
      "Collecting boto3 (from smart-open>=1.8.1->gensim)\n",
      "\u001b[?25l  Downloading https://files.pythonhosted.org/packages/af/1d/833d463417f1ff84aeae42eb52795f4909cf54dbec62634e341080be5b0c/boto3-1.10.5-py2.py3-none-any.whl (128kB)\n",
      "\u001b[K     |████████████████████████████████| 133kB 54.2MB/s eta 0:00:01\n",
      "\u001b[?25hRequirement already satisfied: urllib3!=1.25.0,!=1.25.1,<1.26,>=1.21.1 in /home/cloudera/anaconda3/lib/python3.7/site-packages (from requests->smart-open>=1.8.1->gensim) (1.24.2)\n",
      "Requirement already satisfied: certifi>=2017.4.17 in /home/cloudera/anaconda3/lib/python3.7/site-packages (from requests->smart-open>=1.8.1->gensim) (2019.9.11)\n",
      "Requirement already satisfied: idna<2.9,>=2.5 in /home/cloudera/anaconda3/lib/python3.7/site-packages (from requests->smart-open>=1.8.1->gensim) (2.8)\n",
      "Requirement already satisfied: chardet<3.1.0,>=3.0.2 in /home/cloudera/anaconda3/lib/python3.7/site-packages (from requests->smart-open>=1.8.1->gensim) (3.0.4)\n",
      "Collecting jmespath<1.0.0,>=0.7.1 (from boto3->smart-open>=1.8.1->gensim)\n",
      "  Downloading https://files.pythonhosted.org/packages/83/94/7179c3832a6d45b266ddb2aac329e101367fbdb11f425f13771d27f225bb/jmespath-0.9.4-py2.py3-none-any.whl\n",
      "Collecting botocore<1.14.0,>=1.13.5 (from boto3->smart-open>=1.8.1->gensim)\n",
      "\u001b[?25l  Downloading https://files.pythonhosted.org/packages/10/d8/f1fb1d6afe096fc7786187bea1a92fc7ebfec240ebd4d9ae8a36fc632e9a/botocore-1.13.5-py2.py3-none-any.whl (5.3MB)\n",
      "\u001b[K     |████████████████████████████████| 5.3MB 42.0MB/s eta 0:00:01/s eta 0:00:01  | 4.1MB 42.0MB/s eta 0:00:01\n",
      "\u001b[?25hCollecting s3transfer<0.3.0,>=0.2.0 (from boto3->smart-open>=1.8.1->gensim)\n",
      "\u001b[?25l  Downloading https://files.pythonhosted.org/packages/16/8a/1fc3dba0c4923c2a76e1ff0d52b305c44606da63f718d14d3231e21c51b0/s3transfer-0.2.1-py2.py3-none-any.whl (70kB)\n",
      "\u001b[K     |████████████████████████████████| 71kB 26.6MB/s eta 0:00:01\n",
      "\u001b[?25hRequirement already satisfied: docutils<0.16,>=0.10 in /home/cloudera/anaconda3/lib/python3.7/site-packages (from botocore<1.14.0,>=1.13.5->boto3->smart-open>=1.8.1->gensim) (0.15.2)\n",
      "Requirement already satisfied: python-dateutil<3.0.0,>=2.1; python_version >= \"2.7\" in /home/cloudera/anaconda3/lib/python3.7/site-packages (from botocore<1.14.0,>=1.13.5->boto3->smart-open>=1.8.1->gensim) (2.8.0)\n",
      "Building wheels for collected packages: smart-open\n",
      "  Building wheel for smart-open (setup.py) ... \u001b[?25ldone\n",
      "\u001b[?25h  Created wheel for smart-open: filename=smart_open-1.8.4-cp37-none-any.whl size=68201 sha256=c939b53705c7e52c85507b871ba040527998c2cd09f9aa669a320455aca54503\n",
      "  Stored in directory: /home/cloudera/.cache/pip/wheels/5f/ea/fb/5b1a947b369724063b2617011f1540c44eb00e28c3d2ca8692\n",
      "Successfully built smart-open\n",
      "Installing collected packages: jmespath, botocore, s3transfer, boto3, smart-open, gensim\n",
      "Successfully installed boto3-1.10.5 botocore-1.13.5 gensim-3.8.1 jmespath-0.9.4 s3transfer-0.2.1 smart-open-1.8.4\n",
      "Note: you may need to restart the kernel to use updated packages.\n"
     ]
    }
   ],
   "source": [
    "pip install gensim"
   ]
  }
 ],
 "metadata": {
  "kernelspec": {
   "display_name": "Python 3",
   "language": "python",
   "name": "python3"
  },
  "language_info": {
   "codemirror_mode": {
    "name": "ipython",
    "version": 3
   },
   "file_extension": ".py",
   "mimetype": "text/x-python",
   "name": "python",
   "nbconvert_exporter": "python",
   "pygments_lexer": "ipython3",
   "version": "3.7.3"
  }
 },
 "nbformat": 4,
 "nbformat_minor": 2
}
