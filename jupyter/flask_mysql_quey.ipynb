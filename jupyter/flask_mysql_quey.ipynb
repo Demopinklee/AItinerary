{
 "cells": [
  {
   "cell_type": "code",
   "execution_count": 1,
   "metadata": {},
   "outputs": [
    {
     "name": "stdout",
     "output_type": "stream",
     "text": [
      " * Serving Flask app \"__main__\" (lazy loading)\n",
      " * Environment: production\n",
      "   WARNING: This is a development server. Do not use it in a production deployment.\n",
      "   Use a production WSGI server instead.\n",
      " * Debug mode: off\n"
     ]
    },
    {
     "name": "stderr",
     "output_type": "stream",
     "text": [
      " * Running on http://127.0.0.1:5000/ (Press CTRL+C to quit)\n",
      "127.0.0.1 - - [06/Nov/2019 12:10:39] \"POST / HTTP/1.1\" 200 -\n"
     ]
    },
    {
     "name": "stdout",
     "output_type": "stream",
     "text": [
      "{'age': 45, 'been2tko': 5, 'days': 16, 'budget': 80000, 'isFemale': 0}\n",
      "2\n",
      "[{'Types': '餅乾類', 'price': 626, 'ranking': 25, 'souvenir': 'ガトーフェスタ ハラダ「グーテ・デ・ロワ」', 'address': '池袋駅\\u3000東武百貨店池袋店 B1F', 'url': 'http://terraconfect.tokyo/fromageterra/'}, {'Types': '餅乾類', 'price': 480, 'ranking': 78, 'souvenir': '福太郎「めんべい」', 'address': '新宿駅\\u3000伊勢丹 B1F', 'url': 'http://candy-showtime.com'}, {'Types': '餅乾類', 'price': 1080, 'ranking': 52, 'souvenir': 'ヨックモック「東京スカイツリー 缶 プティ シガール」', 'address': '東京スカイツリー\\u3000東京ソラマチ 4F', 'url': 'https://www.yokumoku.jp/yokumoku/cms/preview.php'}, {'Types': '小蛋糕類', 'price': 1512, 'ranking': 54, 'souvenir': 'ボビーユーハイム「新・品川ロール」', 'address': '品川駅\\u3000エキュート品川 1F', 'url': 'https://www.juchheim.co.jp/brand/'}, {'Types': '點心類', 'price': 702, 'ranking': 49, 'souvenir': 'D&Nコンフェクショナリー 「焼マシュマロ・タルト スモア（S’MORE）」', 'address': '羽田空港第2旅客ターミナル 1F ANA FESTA', 'url': 'https://www.anafesta.com/products/546'}, {'Types': '點心類', 'price': 1296, 'ranking': 12, 'souvenir': 'アンリ・シャルパンティエ「Wチーズケーキ」', 'address': '渋谷駅\\u3000渋谷マークシティ B1F', 'url': 'http://www.henri-charpentier.com/products/cake/452/'}, {'Types': '巧克力類', 'price': 1620, 'ranking': 45, 'souvenir': 'ホレンディッシェ・カカオシュトゥーベ「バウムシュピッツ」', 'address': '新宿駅\\u3000伊勢丹 B1F', 'url': 'https://isetan.mistore.jp/onlinestore/foods/kakaostube/index.html'}, {'Types': '巧克力類', 'price': 648, 'ranking': 46, 'souvenir': 'コロンバン「東京駅焼きショコラ」', 'address': '東京駅\\u3000グランスタ B1F', 'url': 'http://www.wagashi-miyabian.com'}, {'Types': '夾心餅乾類', 'price': 864, 'ranking': 3, 'souvenir': 'Butter Butler（バターバトラー）「バターフィナンシェ」', 'address': '新宿駅\\u3000NEWoman（ニュウマン）エキナカ 2F', 'url': 'http://andthefriet.com/driedfriet/'}, {'Types': '夾心餅乾類', 'price': 680, 'ranking': 76, 'souvenir': '羽田空港オリジナル「東京リッチサンド 抹茶」', 'address': '羽田空港第1旅客ターミナル 2F PIER 4', 'url': 'なし'}]\n"
     ]
    },
    {
     "name": "stderr",
     "output_type": "stream",
     "text": [
      "127.0.0.1 - - [06/Nov/2019 12:12:12] \"POST / HTTP/1.1\" 200 -\n"
     ]
    },
    {
     "name": "stdout",
     "output_type": "stream",
     "text": [
      "{'age': 45, 'been2tko': 10, 'days': 16, 'budget': 80000, 'isFemale': 0}\n",
      "0\n",
      "[{'Types': '餅乾類', 'price': 480, 'ranking': 78, 'souvenir': '福太郎「めんべい」', 'address': '新宿駅\\u3000伊勢丹 B1F', 'url': 'http://candy-showtime.com'}, {'Types': '餅乾類', 'price': 580, 'ranking': 61, 'souvenir': 'ドルチェフェリーチェ「うえきゅんのキャンダック」', 'address': '上野駅\\u3000エキュート上野 3F', 'url': 'https://www.keyuca.com/dolce-felice/'}, {'Types': '餅乾類', 'price': 1080, 'ranking': 71, 'souvenir': 'ノワ・ドゥ・ブール「サブレ・アマンド」', 'address': '新宿駅\\u3000伊勢丹 B1F', 'url': 'http://noix-de-beurre.com'}, {'Types': '小蛋糕類', 'price': 515, 'ranking': 88, 'souvenir': '東京ばな奈パンダ「バナナヨーグルト味、見ぃつけたっ」', 'address': '上野駅\\u3000エキュート上野 3F', 'url': 'http://www.tokyo-hiyoko.co.jp/shop/anya.html'}, {'Types': '小蛋糕類', 'price': 972, 'ranking': 62, 'souvenir': 'セバスチャン ブイエ「タルトレット」', 'address': '池袋駅\\u3000西武百貨店池袋本店 B1F 中央A3', 'url': 'http://www.bouillet.jp/html/item/tartelette.html'}, {'Types': '點心類', 'price': 1296, 'ranking': 12, 'souvenir': 'アンリ・シャルパンティエ「Wチーズケーキ」', 'address': '渋谷駅\\u3000渋谷マークシティ B1F', 'url': 'http://www.henri-charpentier.com/products/cake/452/'}, {'Types': '點心類', 'price': 1512, 'ranking': 29, 'souvenir': 'ピエール・エルメ・パリ「マカロン」', 'address': '渋谷駅\\u3000渋谷ヒカリエShinQs B2F', 'url': 'http://www.keishindo.co.jp'}, {'Types': '點心類', 'price': 1080, 'ranking': 59, 'souvenir': 'ブールミッシュ「パンダのマカロン」', 'address': '上野駅\\u3000エキュート上野 3F', 'url': 'http://www.boulmich.co.jp'}, {'Types': '巧克力類', 'price': 1620, 'ranking': 45, 'souvenir': 'ホレンディッシェ・カカオシュトゥーベ「バウムシュピッツ」', 'address': '新宿駅\\u3000伊勢丹 B1F', 'url': 'https://isetan.mistore.jp/onlinestore/foods/kakaostube/index.html'}, {'Types': '夾心餅乾類', 'price': 864, 'ranking': 81, 'souvenir': '東京ミルクチーズ工場「ソルト＆カマンベール」', 'address': '東京駅\\u3000京葉ストリート 1F', 'url': 'http://www.rl-waffle.co.jp'}]\n"
     ]
    }
   ],
   "source": [
    "#第零分群:高花費 餅乾類 小蛋糕類 傳統點心類 夾心餅乾類; criteria: 伴手禮外型是否美觀大氣, 伴手禮知名度, 價格 , 美味程度\n",
    "#第一分群:餅乾類 小蛋糕類 傳統點心類 巧克力類 夾心餅乾類 果乾類; criteria: 伴手禮知名度, 價格, 美味程度\n",
    "#第二分群:餅乾類 小蛋糕類 傳統點心類 巧克力類 夾心餅乾類;criteria: 伴手禮知名度, 價格, 美味程度\n",
    "\n",
    "import pymysql\n",
    "import pymysql.cursors\n",
    "import joblib \n",
    "import numpy as np\n",
    "from flask import Flask\n",
    "import flask\n",
    "\n",
    "connection = pymysql.connect(host='mysql',\n",
    "                             user='root',\n",
    "                             password='iii',\n",
    "                             charset='utf8mb4',\n",
    "                             cursorclass=pymysql.cursors.DictCursor)\n",
    "\n",
    "app = Flask(__name__)\n",
    "@app.route(\"/\",methods=[\"POST\"])\n",
    "def recommend():\n",
    "    if flask.request.method == \"POST\":\n",
    "        userdata=flask.request.json\n",
    "    print(userdata)\n",
    "    cluster=clf.predict(np.array([userdata['age'],userdata['been2tko'],\n",
    "                                  userdata['days'],userdata['budget'],userdata['isFemale']]).reshape((1,-1)))[0]\n",
    "              #omiyage variables: 年齡, 去過次數, 去幾天 , 總預算, 性別-男:0；女:1\n",
    "    print(cluster)\n",
    "    queryResult=[]\n",
    "    distribution_0={'餅乾類':3,'小蛋糕類':2,'點心類':3,'巧克力類':1,'夾心餅乾類':1}\n",
    "    distribution_1={'餅乾類':3,'小蛋糕類':2,'點心類':1,'巧克力類':2,'夾心餅乾類':2}\n",
    "    distribution_2={'餅乾類':3,'小蛋糕類':1,'點心類':2,'巧克力類':2,'夾心餅乾類':2}\n",
    "    if cluster == 0:\n",
    "        distribution=distribution_0\n",
    "    elif cluster == 1:\n",
    "        distribution=distribution_1\n",
    "    else:\n",
    "        distribution=distribution_2\n",
    "    with connection.cursor() as cursor:\n",
    "        sql = \"USE`test`\"\n",
    "        cursor.execute(sql)\n",
    "        for kind in list(distribution.keys()): \n",
    "            cursor.execute( \"SELECT * FROM `trip4.csv` WHERE Types= '\"+kind+\"' ORDER BY RAND() LIMIT \"+str(distribution[kind]))          \n",
    "            queryResult+=cursor.fetchall()\n",
    "    print(queryResult)\n",
    "    \n",
    "    \n",
    "#     連線資料庫mongodb()\n",
    "#     img = get(id = 13)\n",
    "#     img.convert()\n",
    "    \n",
    "    return flask.jsonify(queryResult)\n",
    "#string, dict, tuple, Response instance\n",
    "\n",
    "if __name__ == \"__main__\":\n",
    "    clf = joblib.load('omiyage_clf.joblib')\n",
    "    \n",
    "    app.run()\n",
    "                     \n",
    "    \n",
    "\n",
    "    "
   ]
  },
  {
   "cell_type": "code",
   "execution_count": 2,
   "metadata": {},
   "outputs": [],
   "source": [
    "connection.close()"
   ]
  }
 ],
 "metadata": {
  "kernelspec": {
   "display_name": "Python 3",
   "language": "python",
   "name": "python3"
  },
  "language_info": {
   "codemirror_mode": {
    "name": "ipython",
    "version": 3
   },
   "file_extension": ".py",
   "mimetype": "text/x-python",
   "name": "python",
   "nbconvert_exporter": "python",
   "pygments_lexer": "ipython3",
   "version": "3.7.3"
  }
 },
 "nbformat": 4,
 "nbformat_minor": 2
}
